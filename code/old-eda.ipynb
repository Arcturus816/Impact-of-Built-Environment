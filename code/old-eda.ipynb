{
 "cells": [
  {
   "cell_type": "markdown",
   "metadata": {},
   "source": [
    "# Exploratory data analysis\n",
    "\n",
    "In this notebook, we will be conducting some exploratory data analysis for the `built-environment` project.\n",
    "I don't promise to be comprehensive. I'm just trying to get *something* done, to find a starting point."
   ]
  },
  {
   "cell_type": "code",
   "execution_count": null,
   "metadata": {},
   "outputs": [],
   "source": [
    "# Import modules\n",
    "import pandas as pd\n",
    "import numpy as np\n",
    "import matplotlib as plt\n",
    "import seaborn as sns"
   ]
  },
  {
   "cell_type": "markdown",
   "metadata": {},
   "source": [
    "## Staring at tables from FARS data\n",
    "\n",
    "Let's start with `accident.csv` from the FARS 2022 National data.\n",
    "At first, I kept getting a `UnicodeDecodeError` reading `accident.csv` with `pandas`.\n",
    "Apparently, the error was caused by the format, as described in this [StackOverflow thread](https://archive.today/2025.03.05-154624/https://stackoverflow.com/questions/18171739/unicodedecodeerror-when-reading-csv-file-in-pandas).\n",
    "\n",
    "To fix the error, I first made a copy `accident-copy.csv` so that I didn't alter the raw data.\n",
    "I opened `accident-copy.csv` in VS Code, clicked the UTF-8 label in the bottom-right corner, then clicked \"Save with encoding\" and selected UTF-8.\n",
    "I was then able to properly read the CSV."
   ]
  },
  {
   "cell_type": "code",
   "execution_count": null,
   "metadata": {},
   "outputs": [],
   "source": [
    "accident_df = pd.read_csv(\"../data/processed/FARS/2022/accident-copy.csv\")\n",
    "accident_df"
   ]
  },
  {
   "cell_type": "code",
   "execution_count": null,
   "metadata": {},
   "outputs": [],
   "source": [
    "accident_df.describe()"
   ]
  },
  {
   "cell_type": "markdown",
   "metadata": {},
   "source": [
    "There are way too many CSV files for me to investigate in such ashort time, so I'll focus on a few important ones.\n",
    "By skimming the [FARS Analytical User Manual](https://web.archive.org/web/20250226140538/https://crashstats.nhtsa.dot.gov/Api/Public/ViewPublication/813556), I was able to determine a few files that seem worthy of attention.\n",
    "- `accident.csv` describes the crash characteristics and environmental conditions for each crash.\n",
    "- `person.csv` is important because it describes injury severity.\n",
    "- `weather.csv` describes atmospheric conditions.\n",
    "- `vision.csv` describes visibility conditions.\n",
    "- I don't think I'll look at `drugs.csv` right now, but it might be worth controlling for toxicology.\n",
    "\n",
    "Let's get some more data. \n",
    "- If I run into a `UnicodeDecodeError`, then I will perform the same fix as before.\n",
    "- Otherwise, I will proceed normally."
   ]
  },
  {
   "cell_type": "code",
   "execution_count": null,
   "metadata": {},
   "outputs": [],
   "source": [
    "person_df = pd.read_csv(\"../data/raw/FARS/2022/FARS2022NationalCSV/person.csv\")\n",
    "weather_df = pd.read_csv(\"../data/raw/FARS/2022/FARS2022NationalCSV/weather.csv\")\n",
    "vision_df = pd.read_csv(\"../data/raw/FARS/2022/FARS2022NationalCSV/vision.csv\")\n",
    "person_df"
   ]
  },
  {
   "cell_type": "code",
   "execution_count": null,
   "metadata": {},
   "outputs": [],
   "source": [
    "person_df.describe()"
   ]
  },
  {
   "cell_type": "code",
   "execution_count": null,
   "metadata": {},
   "outputs": [],
   "source": [
    "weather_df"
   ]
  },
  {
   "cell_type": "code",
   "execution_count": null,
   "metadata": {},
   "outputs": [],
   "source": [
    "weather_df.describe()"
   ]
  },
  {
   "cell_type": "code",
   "execution_count": null,
   "metadata": {},
   "outputs": [],
   "source": [
    "vision_df"
   ]
  },
  {
   "cell_type": "code",
   "execution_count": null,
   "metadata": {},
   "outputs": [],
   "source": [
    "vision_df.describe()"
   ]
  },
  {
   "cell_type": "markdown",
   "metadata": {},
   "source": [
    "Here are some relevant columns from each CSV.\n",
    "- `ST_CASE` is the unique ID for each crash. (There are columns with unique identifiers for each vehicle and person involved, but I don't think our project needs this level of detail.)\n",
    "- Obviously, we're interested in `MONTH`, `DAY`, `HOUR`, and `MINUTE`. (Of course, the year is 2022 for all of this data.)\n",
    "    - We can also look at `DAY_WEEK` for day-of-the-week. Sunday is 1, Monday is 2, ..., Saturday is 7.\n",
    "- From `accident.csv`, we have many other relevant columns.\n",
    "    - We have some columns counting types of people involved in a crash.\n",
    "        - `PEDS` counts people not in motor vehicles.\n",
    "        - `PERNOTMVIT` counts non-motorists in transit, e.g. cyclists. \n",
    "        - `PERSONS` counts \"Person Forms\", and `PERMVIT` counts motorists.\n",
    "    - `VE_TOTAL` counts the number of vehicles involved in a crash.\n",
    "        - `VE_FORMS` counts vehicles in-transport.\n",
    "        - `PVH_INVL` counts parked and working vehicles.\n",
    "    - Global position is recorded with `LATITUDE` and `LONGITUD`.\n",
    "        - For `LATITUDE`:\n",
    "            - DD.DDDDDDD = actual decimal degrees\n",
    "            - 77.7777000 = not reported\n",
    "            - 88.8888000 = not available\n",
    "            - 99.9999000 = reported as unknown\n",
    "        - Similar idea for `LONGITUD`:\n",
    "            - -DDD.DDDDDDD = actual decimal degrees\n",
    "            - 777.7777000 = not reported\n",
    "            - 888.8888000 = not available\n",
    "            - 999.9999000 = reported as unknown\n",
    "        - There are also other columns for location, e.g. `COUNTY` and `CITY`. (It's worth caring about `COUNTY` if we're restricting to LA, OC, and SD counties.)\n",
    "    - `HARM_EV` is a categorical variable describing the first injury- or damage-producing event of the crash.\n",
    "    - There are some columns that are related to the built environment.\n",
    "        - `ROUTE` describes route signing, e.g. Interstate, US Highway, State Highway, County Road, Local Street, etc.\n",
    "        - `RUR_URB` describes land use, e.g. rural vs urban.\n",
    "        - `FUNC_SYS` describes classification of the segment of the trafficway where the crash occurred, e.g. principal arterial, minor arterial, major collector, minor collector, etc.\n",
    "        - `RELJCT1` describes whether a crash occurred close to an interchange.\n",
    "        - `RELJCT2` describes proximity to components, e.g. intersection.\n",
    "        - `TYP_INT` describes type of intersection.\n",
    "        - `REL_ROAD` describes relation to trafficway, e.g. roadway, median, shoulder, roadside, etc.\n",
    "        - `WRK_ZONE` describes whether the first harmful event occurred in a work zone.\n",
    "    - `LGT_COND` describes the light conditions, e.g. dawn, dusk, etc.\n",
    "    - `WEATHER` describes atmospheric conditions.\n",
    "    - There are some columns related to when EMS was called, when EMS arrived, when patients arrived at the hospital, etc. (These columns are relevant as confounding factors for whether or not a crash is fatal. Maybe quick EMS response times saved lives in a really bad crash, vs slow EMS response times caused people to die in a less severe crash.)\n",
    "    - `FATALS` counts number of fatalities.\n",
    "- From `person.csv`, the `INJ_SEV` column describes injury severity as categorical data. (Since we will be looking at crash-level data and not vehicle-level or person-level, maybe we should care about the highest injury level seen in the crash, or maybe some kind of average?)\n",
    "    - 0 = no apparent injury\n",
    "    - 1 = possible injury\n",
    "    - 2 = suspected minor injury\n",
    "    - 3 = suspected serious injury\n",
    "    - 4 = fatal injury\n",
    "    - 5 = injured, severity unknown\n",
    "    - 6 = died prior to crash\n",
    "    - 9 = unknown/unreported\n",
    "- `person.csv` also has some columns that could indicate confounding factors, like `REST_USE` (restraint use), `REST_MIS` (restraint misuse), `HELM_USE` (helmet use), `HELM_MIS` (helmet misuse), `DRINKING` (alcohol use), `DRUGS` (toxicology), etc.\n",
    "- The `WEATHER` column from `weather.csv` obviously describes atmospheric conditions.\n",
    "    - 1 = clear\n",
    "    - 2 = rain\n",
    "    - 3 = sleet or hail\n",
    "    - 4 = snow\n",
    "    - 5 = fog, smog, smoke\n",
    "    - 6 = severe crosswinds\n",
    "    - 7 = blowing sand, dirt, or soil\n",
    "    - 8 = other\n",
    "    - 10 = cloudy\n",
    "    - 11 = blowing snow\n",
    "    - 12 = freezing drain or drizzle\n",
    "    - 98 = not reported\n",
    "- The `VISION` column from `vision.csv` obviously describes visual obstructions.\n",
    "    - 0 = no obstruction noted\n",
    "    - 1 = rain, snow, fog, smoke, sand, dust\n",
    "    - 2 = reflected glare, bright sunlight, headlights\n",
    "    - 3 = curve, hill, or other roadway design features\n",
    "    - 4 = building, billboard, or other structure\n",
    "    - 5 = trees, crops, vegetation\n",
    "    - 6 = in-transport motor vehicle\n",
    "    - 7 = not in-transport motor vehicle\n",
    "    - 8 = splash or spray of passing vehicle\n",
    "    - 9 = inadequate defrost or defog system\n",
    "    - 10 = inadequate vehicle lighting system\n",
    "    - 11 = obstructing interior to the vehicle\n",
    "    - 12 = external mirrors\n",
    "    - 13 = broken or improperly cleaned windshields\n",
    "    - 14 = obstructing angles on vehicle\n",
    "    - 95 = no driver present/unknown if driver present\n",
    "    - 97 = vision obscured, no details\n",
    "    - 98 = other visual obstruction\n",
    "    - 99 = reported as unknown"
   ]
  },
  {
   "cell_type": "markdown",
   "metadata": {},
   "source": [
    "## A little bit of data processing for FARS data\n",
    "\n",
    "I'd like to process the data a bit.\n",
    "- I want to focus on crashes occurring only in LA, OC, and SD counties.\n",
    "    - According to the FARS Analytical User Manual, `COUNTY` uses Geographic Location Codes (GLCs) from the General Services Administration (GSA).\n",
    "    - From the [GSA website](http://archive.today/2025.03.12-083949/https://www.gsa.gov/reference/geographic-locator-codes), I was able to find the relevant state and county codes.\n",
    "        - California = 06\n",
    "        - LA = 037\n",
    "        - OC = 059\n",
    "        - SD = 073\n",
    "- Once I have acquired the unique IDs `ST_CASE` for these counties, I can select relevant columns.\n",
    "- Next, I'll throw away rows where data is unreported."
   ]
  },
  {
   "cell_type": "code",
   "execution_count": null,
   "metadata": {},
   "outputs": [],
   "source": [
    "accident_df['COUNTY'].dtypes"
   ]
  },
  {
   "cell_type": "code",
   "execution_count": null,
   "metadata": {},
   "outputs": [],
   "source": [
    "accident_df['COUNTY'].values"
   ]
  },
  {
   "cell_type": "code",
   "execution_count": null,
   "metadata": {},
   "outputs": [],
   "source": [
    "county_codes = [37, 59, 73] # for LA, OC, and SD counties\n",
    "accident_counties_df = accident_df[(accident_df['STATE'] == 6) & (accident_df['COUNTY'].isin(county_codes))]\n",
    "accident_counties_df\n",
    "\n"
   ]
  },
  {
   "cell_type": "markdown",
   "metadata": {},
   "source": [
    "Let's keep the following columns from `accident.csv`.\n",
    "- Unique ID: `ST_CASE`\n",
    "- Time: `MONTH`, `DAY`, `HOUR`, `MINUTE`, `DAY_WEEK`\n",
    "- Location: `LATITUDE`, `LONGITUD`, `COUNTY`, `CITY`\n",
    "- Number of people involved: `PERSONS`, `PERMVIT`, `PERNOTMVIT`, `PEDS`\n",
    "- Number of vehicles involved: `VE_TOTAL`, `VE_FORMS`, `PVH_INVL`\n",
    "- Number of fatalities: `FATALS`\n",
    "- First harmful event: `HARM_EV`\n",
    "- Conditions: `LGT_COND`, `WEATHER`, `WRK_ZONE`\n",
    "- Built environment: `ROUTE`, `RUR_URB`, `FUNC_SYS`, `RELJCT1`, `RELJCT2`, `TYP_INT`, `REL_ROAD`\n",
    "- EMS response: `NOT_HOUR`, `NOT_MIN`, `ARR_HOUR`, `ARR_MIN`, `HOSP_HR`, `HOSP_MN`"
   ]
  },
  {
   "cell_type": "code",
   "execution_count": null,
   "metadata": {},
   "outputs": [],
   "source": [
    "relevant_columns = ['ST_CASE',\n",
    "                    'MONTH', 'DAY', 'HOUR', 'MINUTE', 'DAY_WEEK',\n",
    "                    'LATITUDE', 'LONGITUD', 'COUNTY', 'CITY',\n",
    "                    'PERSONS', 'PERMVIT', 'PERNOTMVIT', 'PEDS',\n",
    "                    'VE_TOTAL', 'VE_FORMS', 'PVH_INVL',\n",
    "                    'FATALS',\n",
    "                    'HARM_EV',\n",
    "                    'LGT_COND', 'WEATHER', 'WRK_ZONE',\n",
    "                    'ROUTE', 'RUR_URB', 'FUNC_SYS', 'RELJCT1', 'RELJCT2', 'TYP_INT', 'REL_ROAD',\n",
    "                    'NOT_HOUR', 'NOT_MIN', 'ARR_HOUR', 'ARR_MIN', 'HOSP_HR', 'HOSP_MN']\n",
    "accident_relevant_df = accident_counties_df[relevant_columns]\n",
    "accident_relevant_df"
   ]
  },
  {
   "cell_type": "markdown",
   "metadata": {},
   "source": [
    "Let's get rid of rows with unreported/unknown values."
   ]
  },
  {
   "cell_type": "code",
   "execution_count": null,
   "metadata": {},
   "outputs": [],
   "source": [
    "accident_relevant_df.dtypes"
   ]
  },
  {
   "cell_type": "code",
   "execution_count": null,
   "metadata": {},
   "outputs": [],
   "source": [
    "# Time\n",
    "valid_month = [x for x in range(1,13)]\n",
    "valid_day = [x for x in range(1,32)]\n",
    "valid_day_of_week = [x for x in range(1,8)]\n",
    "valid_hour = [x for x in range(24)]\n",
    "valid_min = [x for x in range(60)]\n",
    "\n",
    "# Location\n",
    "invalid_latitude = [77.7777000, # not reported\n",
    "                    88.8888000, # not available (if state exempt)\n",
    "                    99.9999000  # reported as unknown\n",
    "                    ]\n",
    "invalid_longitude = [777.7777000, # not reported\n",
    "                     888.8888000, # not available (if state exempt)\n",
    "                     999.9999000  # reported as unknown\n",
    "                     ]\n",
    "\n",
    "# Harmful event\n",
    "invalid_event = 99 # reported as unknown\n",
    "\n",
    "# Conditions\n",
    "#invalid_light = [8, # not reported\n",
    "#                 9  # reported as unknown\n",
    "#                 ]\n",
    "#invalid_weather = [98, # not reported\n",
    "#                   99  # reported as unknown\n",
    "#                   ]\n",
    "valid_light = [x for x in range(1,8)]\n",
    "valid_weather = [x for x in range(1,13)]\n",
    "\n",
    "# Built environment\n",
    "#invalid_route = 9 # unknown\n",
    "valid_route = [x for x in range(1,9)]\n",
    "valid_land_use = [1, # rural\n",
    "                  2  # urban\n",
    "                  ]\n",
    "valid_function = [x for x in range(1,8)]\n",
    "valid_reljct1 = [0, # not within interchange area\n",
    "                 1  # within interchange area\n",
    "                 ]\n",
    "valid_reljct2 = [x for x in range(1,9)]\n",
    "valid_reljct2.extend([x for x in range(16,21)])\n",
    "valid_intersection = [x for x in range(1,12)]\n",
    "valid_road = [x for x in range(1,9)]\n",
    "valid_road.extend([x for x in range(10,13)])\n",
    "\n",
    "accident_processed_df = accident_relevant_df[(accident_relevant_df['MONTH'].isin(valid_month))\n",
    "                                             & (accident_relevant_df['DAY'].isin(valid_day))\n",
    "                                             & (accident_relevant_df['DAY_WEEK'].isin(valid_day_of_week))\n",
    "                                             & (accident_relevant_df['HOUR'].isin(valid_hour))\n",
    "                                             & (accident_relevant_df['MINUTE'].isin(valid_min))\n",
    "                                             & (~accident_relevant_df['LATITUDE'].isin(invalid_latitude))\n",
    "                                             & (~accident_relevant_df['LONGITUD'].isin(invalid_longitude))\n",
    "                                             & (accident_relevant_df['HARM_EV'] != invalid_event)\n",
    "                                             & (accident_relevant_df['LGT_COND'].isin(valid_light))\n",
    "                                             & (accident_relevant_df['WEATHER'].isin(valid_weather))\n",
    "                                             & (accident_relevant_df['ROUTE'].isin(valid_route))\n",
    "                                             & (accident_relevant_df['RUR_URB'].isin(valid_land_use))\n",
    "                                             & (accident_relevant_df['FUNC_SYS'].isin(valid_function))\n",
    "                                             & (accident_relevant_df['RELJCT1'].isin(valid_reljct1))\n",
    "                                             & (accident_relevant_df['RELJCT2'].isin(valid_reljct2))\n",
    "                                             & (accident_relevant_df['TYP_INT'].isin(valid_intersection))\n",
    "                                             & (accident_relevant_df['REL_ROAD'].isin(valid_road))\n",
    "                                             ]\n",
    "\n",
    "accident_processed_df"
   ]
  },
  {
   "cell_type": "markdown",
   "metadata": {},
   "source": [
    "Okay, at this point, we have a little over 1000 unique crashes.\n",
    "\n",
    "I'd like to add a few more columns.\n",
    "- `INJ_SEV` from `person.csv`\n",
    "- `VISION` from `vision.csv`\n",
    "\n",
    "(I'll do this later. For now, I'd like to move onto descriptive statistics.)"
   ]
  },
  {
   "cell_type": "markdown",
   "metadata": {},
   "source": [
    "## Descriptive statistics for the FARS data\n",
    "\n",
    "Before working on any visualizations, maybe it'd be worth printing out some descriptive statistics."
   ]
  },
  {
   "cell_type": "code",
   "execution_count": null,
   "metadata": {},
   "outputs": [],
   "source": [
    "accident_processed_df.info"
   ]
  },
  {
   "cell_type": "markdown",
   "metadata": {},
   "source": [
    "### Time\n",
    "\n",
    "For time, we might want to know which months, hours, and days of the week have the most crashes."
   ]
  },
  {
   "cell_type": "code",
   "execution_count": null,
   "metadata": {},
   "outputs": [],
   "source": [
    "accident_processed_df.value_counts('MONTH')"
   ]
  },
  {
   "cell_type": "markdown",
   "metadata": {},
   "source": [
    "The worst month (October) has about $104/77 \\approx 1.35$ times as many crashes as the safest month (December)."
   ]
  },
  {
   "cell_type": "code",
   "execution_count": null,
   "metadata": {},
   "outputs": [],
   "source": [
    "accident_processed_df.value_counts('HOUR')"
   ]
  },
  {
   "cell_type": "markdown",
   "metadata": {},
   "source": [
    "Wow, the worse time (02:00) has about $81/21 \\approx 3.86$ times as many crashes as the safest time (14:00).\n",
    "It seems like the most dangerous times are at night, and the safest times are in the morning and early afternoon."
   ]
  },
  {
   "cell_type": "code",
   "execution_count": null,
   "metadata": {},
   "outputs": [],
   "source": [
    "accident_processed_df.value_counts('DAY_WEEK')"
   ]
  },
  {
   "cell_type": "markdown",
   "metadata": {},
   "source": [
    "The worst day (Sunday) is has $194/103 \\approx 1.88%$ times as many crashes as the safest day (Wednesday).\n",
    "The most dangerous days are on the weekends."
   ]
  },
  {
   "cell_type": "markdown",
   "metadata": {},
   "source": [
    "We can also cut up the data a bit."
   ]
  },
  {
   "cell_type": "code",
   "execution_count": null,
   "metadata": {},
   "outputs": [],
   "source": [
    "accident_processed_df.value_counts(['MONTH', 'HOUR'])"
   ]
  },
  {
   "cell_type": "code",
   "execution_count": null,
   "metadata": {},
   "outputs": [],
   "source": [
    "accident_processed_df.value_counts(['MONTH', 'DAY_WEEK'])"
   ]
  },
  {
   "cell_type": "markdown",
   "metadata": {},
   "source": [
    "Not sure how helpful that was.\n",
    "\n",
    "Anyways, let's visualize some of the time data."
   ]
  },
  {
   "cell_type": "code",
   "execution_count": null,
   "metadata": {},
   "outputs": [],
   "source": [
    "sns.countplot(accident_processed_df, x='MONTH')"
   ]
  },
  {
   "cell_type": "code",
   "execution_count": null,
   "metadata": {},
   "outputs": [],
   "source": [
    "sns.boxplot(accident_processed_df, x='MONTH', y='PERSONS')"
   ]
  },
  {
   "cell_type": "code",
   "execution_count": null,
   "metadata": {},
   "outputs": [],
   "source": [
    "sns.boxplot(accident_processed_df, x='MONTH', y='FATALS')"
   ]
  },
  {
   "cell_type": "code",
   "execution_count": null,
   "metadata": {},
   "outputs": [],
   "source": [
    "sns.boxplot(accident_processed_df, x='MONTH', y='VE_TOTAL')"
   ]
  },
  {
   "cell_type": "code",
   "execution_count": null,
   "metadata": {},
   "outputs": [],
   "source": [
    "#sns.countplot(accident_processed_df, x='MONTH', hue='FATALS')"
   ]
  },
  {
   "cell_type": "code",
   "execution_count": null,
   "metadata": {},
   "outputs": [],
   "source": [
    "#sns.countplot(accident_processed_df, x='MONTH', hue='PERSONS')"
   ]
  },
  {
   "cell_type": "code",
   "execution_count": null,
   "metadata": {},
   "outputs": [],
   "source": [
    "sns.countplot(accident_processed_df, x='HOUR')"
   ]
  },
  {
   "cell_type": "code",
   "execution_count": null,
   "metadata": {},
   "outputs": [],
   "source": [
    "sns.boxplot(accident_processed_df, x='HOUR', y='PERSONS')"
   ]
  },
  {
   "cell_type": "code",
   "execution_count": null,
   "metadata": {},
   "outputs": [],
   "source": [
    "sns.boxplot(accident_processed_df, x='HOUR', y='FATALS')"
   ]
  },
  {
   "cell_type": "code",
   "execution_count": null,
   "metadata": {},
   "outputs": [],
   "source": [
    "sns.boxplot(accident_processed_df, x='HOUR', y='VE_TOTAL')"
   ]
  },
  {
   "cell_type": "code",
   "execution_count": null,
   "metadata": {},
   "outputs": [],
   "source": [
    "#sns.countplot(accident_processed_df, x='HOUR', hue='FATALS')"
   ]
  },
  {
   "cell_type": "code",
   "execution_count": null,
   "metadata": {},
   "outputs": [],
   "source": [
    "#sns.countplot(accident_processed_df, x='MONTH', hue='PERSONS')"
   ]
  },
  {
   "cell_type": "code",
   "execution_count": null,
   "metadata": {},
   "outputs": [],
   "source": [
    "sns.countplot(accident_processed_df, x='DAY_WEEK')"
   ]
  },
  {
   "cell_type": "code",
   "execution_count": null,
   "metadata": {},
   "outputs": [],
   "source": [
    "sns.boxplot(accident_processed_df, x='DAY_WEEK', y='PERSONS')"
   ]
  },
  {
   "cell_type": "code",
   "execution_count": null,
   "metadata": {},
   "outputs": [],
   "source": [
    "sns.boxplot(accident_processed_df, x='DAY_WEEK', y='FATALS')"
   ]
  },
  {
   "cell_type": "code",
   "execution_count": null,
   "metadata": {},
   "outputs": [],
   "source": [
    "sns.boxplot(accident_processed_df, x='DAY_WEEK', y='VE_TOTAL')"
   ]
  },
  {
   "cell_type": "code",
   "execution_count": null,
   "metadata": {},
   "outputs": [],
   "source": [
    "#sns.countplot(accident_processed_df, x='DAY_WEEK', hue='FATALS')"
   ]
  },
  {
   "cell_type": "code",
   "execution_count": null,
   "metadata": {},
   "outputs": [],
   "source": [
    "#sns.countplot(accident_processed_df, x='DAY_WEEK', hue='PERSONS')"
   ]
  },
  {
   "cell_type": "markdown",
   "metadata": {},
   "source": [
    "### Persons\n",
    "\n",
    "We might also want to know descriptive statistics for people involved in crashes."
   ]
  },
  {
   "cell_type": "code",
   "execution_count": null,
   "metadata": {},
   "outputs": [],
   "source": [
    "accident_processed_df[['PERSONS', 'PERMVIT', 'PERNOTMVIT', 'PEDS']].describe()"
   ]
  },
  {
   "cell_type": "code",
   "execution_count": null,
   "metadata": {},
   "outputs": [],
   "source": [
    "accident_processed_df[['PERSONS', 'PERMVIT', 'PERNOTMVIT', 'PEDS']].median()"
   ]
  },
  {
   "cell_type": "code",
   "execution_count": null,
   "metadata": {},
   "outputs": [],
   "source": [
    "sns.displot(accident_processed_df, x='PERSONS')"
   ]
  },
  {
   "cell_type": "code",
   "execution_count": null,
   "metadata": {},
   "outputs": [],
   "source": [
    "sns.displot(accident_processed_df, x='PEDS')"
   ]
  },
  {
   "cell_type": "markdown",
   "metadata": {},
   "source": [
    "Typically, 2 people are injured per crash, and these people are typically occupants of motor vehicles in transit.\n",
    "\n",
    "Dang though, looks like there was a crash involving 17 people."
   ]
  },
  {
   "cell_type": "code",
   "execution_count": null,
   "metadata": {},
   "outputs": [],
   "source": [
    "accident_processed_df['FATALS'].describe()"
   ]
  },
  {
   "cell_type": "code",
   "execution_count": null,
   "metadata": {},
   "outputs": [],
   "source": [
    "accident_processed_df['FATALS'].median()"
   ]
  },
  {
   "cell_type": "code",
   "execution_count": null,
   "metadata": {},
   "outputs": [],
   "source": [
    "sns.displot(accident_processed_df, x='FATALS')"
   ]
  },
  {
   "cell_type": "markdown",
   "metadata": {},
   "source": [
    "Typically, a crash involves 1 fatality. However, there was a crash with 5 fatalities in 2022.\n",
    "\n",
    "I'm not sure if I'm reading the data wrong, but something looks off.\n",
    "- `PERSONS` has a minimum of 0, meaning there has been a crash involving zero people.\n",
    "- `FATALS` has a minimum of 1, meaning the minimum number of fatalities per crash is 1.\n",
    "- It's impossible for both of those things to be true simultaneously..."
   ]
  },
  {
   "cell_type": "markdown",
   "metadata": {},
   "source": [
    "### Vehicles\n",
    "\n",
    "How about the number of vehicles involved per crash?"
   ]
  },
  {
   "cell_type": "code",
   "execution_count": null,
   "metadata": {},
   "outputs": [],
   "source": [
    "accident_processed_df[['VE_TOTAL', 'VE_FORMS', 'PVH_INVL']].describe()"
   ]
  },
  {
   "cell_type": "code",
   "execution_count": null,
   "metadata": {},
   "outputs": [],
   "source": [
    "accident_processed_df[['VE_TOTAL', 'VE_FORMS', 'PVH_INVL']].median()"
   ]
  },
  {
   "cell_type": "code",
   "execution_count": null,
   "metadata": {},
   "outputs": [],
   "source": [
    "sns.displot(accident_processed_df, x='VE_TOTAL')"
   ]
  },
  {
   "cell_type": "code",
   "execution_count": null,
   "metadata": {},
   "outputs": [],
   "source": [
    "sns.displot(accident_processed_df, x='PVH_INVL')"
   ]
  },
  {
   "cell_type": "markdown",
   "metadata": {},
   "source": [
    "Looking at these descriptive statistics, we notice a few things.\n",
    "- Naturally, at least one vehicle is involved per crash. \n",
    "- Thankfully, the typical number of vehicles involved per crash is 1.\n",
    "- Typically, 0 parked vehicles are involved per crash.\n",
    "- There has been a crash involving as many as 11 vehicles, and a crash involving as many as 5 parked vehicles."
   ]
  },
  {
   "cell_type": "markdown",
   "metadata": {},
   "source": [
    "### Harmful events\n",
    "\n",
    "What harmful events are the most common causes of crashes?"
   ]
  },
  {
   "cell_type": "code",
   "execution_count": null,
   "metadata": {},
   "outputs": [],
   "source": [
    "accident_processed_df.value_counts('HARM_EV')"
   ]
  },
  {
   "cell_type": "code",
   "execution_count": null,
   "metadata": {},
   "outputs": [],
   "source": [
    "sns.countplot(accident_processed_df, x='HARM_EV')"
   ]
  },
  {
   "cell_type": "markdown",
   "metadata": {},
   "source": [
    "The top 3 causes account for $776/1067 \\approx 72.7\\%$ of crashes.\n",
    "1. Pedestrian (8), accounting for $352/1067 \\approx 33.0\\%$ of crashes\n",
    "2. Motor vehicle in-transport (12), accounting for $318/1067 \\approx 29.8\\%$ of crashes\n",
    "3. Curb (3), accounting for $106/1067 \\approx 9.93\\%$ of crashes"
   ]
  },
  {
   "cell_type": "markdown",
   "metadata": {},
   "source": [
    "### Conditions\n",
    "\n",
    "Now let's look at environmental conditions."
   ]
  },
  {
   "cell_type": "code",
   "execution_count": null,
   "metadata": {},
   "outputs": [],
   "source": [
    "accident_processed_df.value_counts('LGT_COND')"
   ]
  },
  {
   "cell_type": "code",
   "execution_count": null,
   "metadata": {},
   "outputs": [],
   "source": [
    "sns.countplot(accident_processed_df, x='LGT_COND')"
   ]
  },
  {
   "cell_type": "markdown",
   "metadata": {},
   "source": [
    "The top 3 light conditions account for $1016/1067 \\approx 95.2\\%$ of crashes.\n",
    "1. Dark - Lighted (3), accounting for $474/1067 \\approx 44.4\\%$ of crashes\n",
    "2. Daylight (1), accounting for $346/1067 \\approx 32.4\\%$ of crashes\n",
    "3. Dark - Not Lighted (2), accounting for $196/1067 \\approx 18.4\\%$ of crashes\n",
    "\n",
    "If I were to guess, not too many people drive at Dawn (4) or Dusk (5), and the lighting condition is usually reported, so most people wouldn't be categorized under Dark - Unknown Lighting (6)."
   ]
  },
  {
   "cell_type": "code",
   "execution_count": null,
   "metadata": {},
   "outputs": [],
   "source": [
    "accident_processed_df.value_counts('WEATHER')"
   ]
  },
  {
   "cell_type": "code",
   "execution_count": null,
   "metadata": {},
   "outputs": [],
   "source": [
    "sns.countplot(accident_processed_df, x='WEATHER')"
   ]
  },
  {
   "cell_type": "markdown",
   "metadata": {},
   "source": [
    "The vast majority ($932/1067 \\approx 87.3\\%$) of crashes occur under Clear (1) conditions, simply because those are the usual conditions in LA/OC/SD counties.\n",
    "\n",
    "Cloudy (10) accounts for $102/1067 \\approx 9.56\\%$ of crashes, while Rain (2) accounts for $26/1067 \\approx 2.44\\%$."
   ]
  },
  {
   "cell_type": "code",
   "execution_count": null,
   "metadata": {},
   "outputs": [],
   "source": [
    "accident_processed_df.value_counts('WRK_ZONE')"
   ]
  },
  {
   "cell_type": "code",
   "execution_count": null,
   "metadata": {},
   "outputs": [],
   "source": [
    "sns.countplot(accident_processed_df, x='WRK_ZONE')"
   ]
  },
  {
   "cell_type": "markdown",
   "metadata": {},
   "source": [
    "Work zones are uncommon, so it makes sense that most accidents occur outside of work zones. We can probably ignore work zones."
   ]
  },
  {
   "cell_type": "markdown",
   "metadata": {},
   "source": [
    "### Built environment\n",
    "\n",
    "Let's examine the built environment.\n"
   ]
  },
  {
   "cell_type": "code",
   "execution_count": null,
   "metadata": {},
   "outputs": [],
   "source": [
    "accident_processed_df.value_counts('ROUTE')"
   ]
  },
  {
   "cell_type": "code",
   "execution_count": null,
   "metadata": {},
   "outputs": [],
   "source": [
    "sns.countplot(accident_processed_df, x='ROUTE')"
   ]
  },
  {
   "cell_type": "markdown",
   "metadata": {},
   "source": [
    "The top 3 route signings account for $1025/1067 \\approx 96.1\\%$ of crashes.\n",
    "1. Other (8), accounting for $575/1067 \\approx 53.9\\%$ of crashes\n",
    "2. Interstate (1), accounting for $245/1067 \\approx 23.0\\%$ of crashes\n",
    "3. State Highway (3), accounting for $205/1067 \\approx 19.2\\%$ of crashes\n",
    "\n",
    "Not sure what the \"Other\" category really entails."
   ]
  },
  {
   "cell_type": "code",
   "execution_count": null,
   "metadata": {},
   "outputs": [],
   "source": [
    "accident_processed_df.value_counts('RUR_URB')"
   ]
  },
  {
   "cell_type": "code",
   "execution_count": null,
   "metadata": {},
   "outputs": [],
   "source": [
    "sns.countplot(accident_processed_df, x='RUR_URB')"
   ]
  },
  {
   "cell_type": "markdown",
   "metadata": {},
   "source": [
    "It makes sense that most accidents occur in urban areas, since that's where most people live."
   ]
  },
  {
   "cell_type": "code",
   "execution_count": null,
   "metadata": {},
   "outputs": [],
   "source": [
    "accident_processed_df.value_counts('FUNC_SYS')"
   ]
  },
  {
   "cell_type": "code",
   "execution_count": null,
   "metadata": {},
   "outputs": [],
   "source": [
    "sns.countplot(accident_processed_df, x='FUNC_SYS')"
   ]
  },
  {
   "cell_type": "markdown",
   "metadata": {},
   "source": [
    "In order:\n",
    "1. Principal Arterial - Other (3), accounting for $370/1067 \\approx 34.7\\%$ of crashes\n",
    "2. Interstate (1), accounting for $239/1067 \\approx 22.4\\%$ of crashes\n",
    "3. Minor Arterial (4), accounting for $204/1067 \\approx 19.1\\%$ of crashes\n",
    "4. Principal Arterial - Other Freeways and Expressways (2), accounting for $127/1067 \\approx 11.9\\%$ of crashes\n",
    "5. Major Collector (5), accounting for $74/1067 \\approx 6.94\\%$ of crashes\n",
    "6. Local (7), accounting for $48/1067 \\approx 4.50\\%$ of crashes\n",
    "7. Minor Collector (6), accounting for $5/1067 \\approx 0.469\\%$ of crashes\n",
    "\n",
    "For definitions of these terms, see the [Highway Functional Classification Concepts, Criteria, and Procedures](https://web.archive.org/web/20250301002527/https://epa-sdcc.ornl.gov/documents/2023_FHWA_Functional_Classification_Guidelines.pdf) by the Federal Highway Administration (FHWA).\n",
    "\n",
    "It might be worth looking at [Motor Vehicle Fatalities, Vehicle-Miles, and Associated Rates by Highway Functional System](https://web.archive.org/web/20250222134436/https://www.bts.gov/content/motor-vehicle-fatalities-vehicle-miles-and-associated-rates-highway-functional-system) from the Bureau of Transportation Statistics (BTS)."
   ]
  },
  {
   "cell_type": "code",
   "execution_count": null,
   "metadata": {},
   "outputs": [],
   "source": [
    "accident_processed_df.value_counts('RELJCT1')"
   ]
  },
  {
   "cell_type": "code",
   "execution_count": null,
   "metadata": {},
   "outputs": [],
   "source": [
    "sns.countplot(accident_processed_df, x='RELJCT1')"
   ]
  },
  {
   "cell_type": "markdown",
   "metadata": {},
   "source": [
    "Evidently, most accidents do not occur within an interchange area."
   ]
  },
  {
   "cell_type": "code",
   "execution_count": null,
   "metadata": {},
   "outputs": [],
   "source": [
    "accident_processed_df.value_counts('RELJCT2')"
   ]
  },
  {
   "cell_type": "code",
   "execution_count": null,
   "metadata": {},
   "outputs": [],
   "source": [
    "sns.countplot(accident_processed_df, x='RELJCT2')"
   ]
  },
  {
   "cell_type": "markdown",
   "metadata": {},
   "source": [
    "The top 3 junction types account for $885/1067 \\approx 82.9\\%$ of crashes.\n",
    "1. Non-Junction (1), accounting for $586/1067 \\approx 54.9\\%$ of crashes\n",
    "2. Intersection-Related (3), accounting for $162/1067 \\approx 15.2\\%$ of crashes\n",
    "3. Intersection (2), accounting for $137/1067 \\approx 12.8\\%$ of crashes"
   ]
  },
  {
   "cell_type": "code",
   "execution_count": null,
   "metadata": {},
   "outputs": [],
   "source": [
    "accident_processed_df.value_counts('TYP_INT')"
   ]
  },
  {
   "cell_type": "code",
   "execution_count": null,
   "metadata": {},
   "outputs": [],
   "source": [
    "sns.countplot(accident_processed_df, x='TYP_INT')"
   ]
  },
  {
   "cell_type": "markdown",
   "metadata": {},
   "source": [
    "The top 3 intersections for accidents account for $1064/1067 \\approx 99.7\\%$ of crashes.\n",
    "1. Not an Intersection (1), accounting for $768/1067 \\approx 72.0\\%$ of crashes\n",
    "2. Four-Way Intersection (2), accounting for $203/1067 \\approx 19.0\\%$ of crashes\n",
    "3. T-Intersection (3), accounting for $93/1067 \\approx 8.72\\%$ of crashes\n",
    "4. Y-Intersection (4), accounting for $5/1067 \\approx 0.469\\%$ of crashes\n",
    "\n",
    "Notably, there are zero crashes at Traffic Circles, Roundabouts, Five-Point (or More), L-Intersection, etc."
   ]
  },
  {
   "cell_type": "code",
   "execution_count": null,
   "metadata": {},
   "outputs": [],
   "source": [
    "accident_processed_df.value_counts('REL_ROAD')"
   ]
  },
  {
   "cell_type": "code",
   "execution_count": null,
   "metadata": {},
   "outputs": [],
   "source": [
    "sns.countplot(accident_processed_df, x='REL_ROAD')"
   ]
  },
  {
   "cell_type": "markdown",
   "metadata": {},
   "source": [
    "The top 2 positions in the roadway account for $985/1067 \\approx 92.3\\%$ of crashes.\n",
    "1. On Roadway (1), accounting for $769/1067 \\approx 72.1\\%$ of crashes\n",
    "2. On Roadside (4), accounting for $216/1067 \\approx 20.2\\%$ of crashes\n"
   ]
  },
  {
   "cell_type": "markdown",
   "metadata": {},
   "source": [
    "## Visualizations\n",
    "\n",
    "Let's try some more visualizations.\n",
    "\n",
    "Let's focus on a few variables.\n",
    "- Circular: `MONTH`, `HOUR`, `DAY_WEEK`\n",
    "- Numerical: `PERSONS`, `PEDS`, `VE_TOTAL`, `PVH_INVL`, `FATALS`\n",
    "- Nominal: `HARM_EV`, `LGT_COND`, `WEATHER`, `ROUTE`, `RUR_URB`, `FUNC_SYS`, `RELJCT1`, `RELJCT2`, `TYP_INT`, `REL_ROAD`\n"
   ]
  },
  {
   "cell_type": "code",
   "execution_count": null,
   "metadata": {},
   "outputs": [],
   "source": [
    "relevant_circular_vars = ['MONTH', 'HOUR', 'DAY_WEEK']\n",
    "relevant_numerical_vars = ['PERSONS', 'PEDS', 'VE_TOTAL', 'PVH_INVL', 'FATALS']\n",
    "relevant_nominal_vars = ['HARM_EV', 'LGT_COND', 'WEATHER', 'ROUTE', 'RUR_URB', 'FUNC_SYS', 'RELJCT1', 'RELJCT2', 'TYP_INT', 'REL_ROAD']\n",
    "all_vars = [*relevant_circular_vars, *relevant_numerical_vars, *relevant_nominal_vars]"
   ]
  },
  {
   "cell_type": "markdown",
   "metadata": {},
   "source": [
    "Let's graph the variables pairwise."
   ]
  },
  {
   "cell_type": "code",
   "execution_count": null,
   "metadata": {},
   "outputs": [],
   "source": [
    "g = sns.PairGrid(accident_processed_df, vars = all_vars)\n",
    "g.map_diag(sns.histplot)\n",
    "g.map_offdiag(sns.scatterplot)\n",
    "g.add_legend"
   ]
  },
  {
   "cell_type": "markdown",
   "metadata": {},
   "source": [
    "Uhhh...not sure how helpful that was."
   ]
  },
  {
   "cell_type": "markdown",
   "metadata": {},
   "source": [
    "# Investigating EPA data with GeoPandas\n",
    "\n",
    "I will be using GeoPandas to look through the EPA data."
   ]
  },
  {
   "cell_type": "code",
   "execution_count": null,
   "metadata": {},
   "outputs": [],
   "source": [
    "import geopandas"
   ]
  },
  {
   "cell_type": "code",
   "execution_count": null,
   "metadata": {},
   "outputs": [],
   "source": [
    "smart_location_df = geopandas.read_file(\"../data/raw/EPA/SmartLocationDatabaseV3/SmartLocationDatabase.gdb\")\n",
    "smart_location_df"
   ]
  },
  {
   "cell_type": "code",
   "execution_count": null,
   "metadata": {},
   "outputs": [],
   "source": [
    "smart_location_df.info"
   ]
  },
  {
   "cell_type": "code",
   "execution_count": null,
   "metadata": {},
   "outputs": [],
   "source": [
    "smart_location_df.dtypes"
   ]
  },
  {
   "cell_type": "markdown",
   "metadata": {},
   "source": [
    "The [Technical Documentation and User Guide](https://web.archive.org/web/20250317025004/https://www.epa.gov/system/files/documents/2023-10/epa_sld_3.0_technicaldocumentationuserguide_may2021_0.pdf) describes each column.\n",
    "Here are a few columns that we might care about.\n",
    "- `GEOID20` is the census block group 12-digit FIPS code as of 2018. For each car crash in our Kaggle or FARS data, we can use its latitude-longitude data to determine the census block group where the crash occurred.\n",
    "- `COUNTYFP` is the county FIPS code, which will allow us to select for LA, SF, OC, and SD counties.\n",
    "- \"Core-based statistical area measures\"\n",
    "    - \"CSBA\" means [core-based statistical area](https://en.wikipedia.org/wiki/List_of_core-based_statistical_areas). [Census block groups](https://en.wikipedia.org/wiki/Census_block_group) (CBGs) are contained in CSBAs.\n",
    "    - `CBSA_POP` is total population in a CBSA\n",
    "    - `CBSA_Emp` is total employment in a CBSA\n",
    "    - `CBSA_Wrk` is total workers living in the CBSA\n",
    "- Demographics\n",
    "    - `TotPop` is total population, 2018\n",
    "    - `CountHU` is total housing units, 2018\n",
    "    - `HH` is households, 2018\n",
    "    - `P_WrkAge` is percentage of population that is working age (18-64), 2018\n",
    "    - `AutoOwn0` is number of households that own zero automobiles, 2018\n",
    "\n",
    "#TODO"
   ]
  },
  {
   "cell_type": "markdown",
   "metadata": {},
   "source": [
    "It's great that we can open up the data with GeoPandas, but we may also want to visualize maps.\n",
    "However, `smart_location_df` has over 200k rows, so for our first demonstration, maybe we should restrict to just LA County."
   ]
  },
  {
   "cell_type": "code",
   "execution_count": null,
   "metadata": {},
   "outputs": [],
   "source": [
    "los_angeles_df = smart_location_df[(smart_location_df['COUNTYFP'] == \"037\") & (smart_location_df['STATEFP'] == \"06\")]\n",
    "los_angeles_df"
   ]
  },
  {
   "cell_type": "code",
   "execution_count": null,
   "metadata": {},
   "outputs": [],
   "source": [
    "los_angeles_df.plot()"
   ]
  },
  {
   "cell_type": "markdown",
   "metadata": {},
   "source": [
    "Okay, that looks about right, except we are including Catalina and San Clemente Islands...\n",
    "Looking them up in the [California Census Map](https://web.archive.org/web/20250313162837/https://census.ca.gov/htc-map/) and the [LA County Census Tract Map](https://web.archive.org/web/20250320001704/https://www2.census.gov/geo/maps/DC2020/PL20/st06_ca/censustract_maps/c06037_los_angeles/DC20CT_C06037.pdf), we find that the two islands mostly correspond to Census Tract 5991, with the town of Avalon corresponding to Census Tract 5990. Let's remove them from the dataframe."
   ]
  },
  {
   "cell_type": "code",
   "execution_count": null,
   "metadata": {},
   "outputs": [],
   "source": [
    "los_angeles_df = los_angeles_df[(los_angeles_df[\"TRACTCE\"] != \"599000\") & (los_angeles_df[\"TRACTCE\"] != \"599100\")]\n",
    "los_angeles_df.plot()\n"
   ]
  },
  {
   "cell_type": "markdown",
   "metadata": {},
   "source": [
    "Nice. Now we can test out some fancier visualizations."
   ]
  },
  {
   "cell_type": "code",
   "execution_count": null,
   "metadata": {},
   "outputs": [],
   "source": [
    "los_angeles_df.plot(\"D4A\", legend=True) # D4A = distance from population-weighted centroid to nearest transit stop (meters)"
   ]
  },
  {
   "cell_type": "code",
   "execution_count": null,
   "metadata": {},
   "outputs": [],
   "source": [
    "los_angeles_df[\"D4A\"].describe()"
   ]
  },
  {
   "cell_type": "code",
   "execution_count": null,
   "metadata": {},
   "outputs": [],
   "source": [
    "los_angeles_transit_df = los_angeles_df[los_angeles_df[\"D4A\"] != -99999]\n",
    "los_angeles_transit_df"
   ]
  },
  {
   "cell_type": "code",
   "execution_count": null,
   "metadata": {},
   "outputs": [],
   "source": [
    "los_angeles_transit_df[\"D4A\"].describe()"
   ]
  },
  {
   "cell_type": "code",
   "execution_count": null,
   "metadata": {},
   "outputs": [],
   "source": [
    "los_angeles_transit_df.explore(\"D4A\", legend=True)"
   ]
  },
  {
   "cell_type": "code",
   "execution_count": null,
   "metadata": {},
   "outputs": [],
   "source": [
    "los_angeles_df.explore(\"D3A\", legend=True) # D3A = total road network density"
   ]
  },
  {
   "cell_type": "code",
   "execution_count": null,
   "metadata": {},
   "outputs": [],
   "source": [
    "los_angeles_df.explore(\"D3APO\", legend=True) # D3APO = Network density in terms of facility miles of pedestrian-oriented links per square mile"
   ]
  },
  {
   "cell_type": "markdown",
   "metadata": {},
   "source": [
    "At this point, I think we're ready to start merging the EPA and Kaggle datasets."
   ]
  }
 ],
 "metadata": {
  "kernelspec": {
   "display_name": "built-environment",
   "language": "python",
   "name": "python3"
  },
  "language_info": {
   "codemirror_mode": {
    "name": "ipython",
    "version": 3
   },
   "file_extension": ".py",
   "mimetype": "text/x-python",
   "name": "python",
   "nbconvert_exporter": "python",
   "pygments_lexer": "ipython3",
   "version": "3.12.9"
  }
 },
 "nbformat": 4,
 "nbformat_minor": 2
}
